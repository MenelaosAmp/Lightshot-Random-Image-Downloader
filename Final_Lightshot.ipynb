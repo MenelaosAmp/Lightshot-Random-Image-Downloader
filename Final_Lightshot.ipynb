{
 "cells": [
  {
   "cell_type": "markdown",
   "metadata": {},
   "source": [
    "# <b>Menelaos Ampartzakis - Lightshot Random Image Downloader"
   ]
  },
  {
   "cell_type": "markdown",
   "metadata": {},
   "source": [
    "<span style=\"color:red\"><b>DONT ABUSE! YOU CAN GET BLACKLISTED - BANNED FROM LIGHSHOT</span>"
   ]
  },
  {
   "cell_type": "code",
   "execution_count": 1,
   "metadata": {},
   "outputs": [],
   "source": [
    "#Necessary Libraries\n",
    "\n",
    "import random\n",
    "\n",
    "import os\n",
    "\n",
    "import requests\n",
    "from requests import Request\n",
    "from requests.exceptions import MissingSchema\n",
    "\n",
    "from bs4 import BeautifulSoup\n",
    "import io\n",
    "from io import BytesIO\n",
    "import PIL\n",
    "from PIL import Image\n",
    "import string\n",
    "import urllib.request\n",
    "from urllib.request import Request, urlopen, urlretrieve\n",
    "\n",
    "import time"
   ]
  },
  {
   "cell_type": "code",
   "execution_count": 2,
   "metadata": {},
   "outputs": [
    {
     "name": "stdout",
     "output_type": "stream",
     "text": [
      "The current working directory is C:\\Users\\menio\n"
     ]
    }
   ],
   "source": [
    "#Get the path of the current PC\n",
    "\n",
    "path = os.getcwd()\n",
    "print (\"The current working directory is %s\" % path)"
   ]
  },
  {
   "cell_type": "code",
   "execution_count": 3,
   "metadata": {},
   "outputs": [
    {
     "name": "stdout",
     "output_type": "stream",
     "text": [
      "Creation of the directory C:\\Users\\menio\\light failed\n"
     ]
    }
   ],
   "source": [
    "#Creation of folder named \"light\" in path \"path\\light\"\n",
    "\n",
    "path = path + \"\\light\"\n",
    "\n",
    "try:\n",
    "    os.mkdir(path)\n",
    "except OSError:\n",
    "    print (\"Creation of the directory %s failed\" % path)\n",
    "else:\n",
    "    print (\"Successfully created the directory %s \" % path)"
   ]
  },
  {
   "cell_type": "code",
   "execution_count": 4,
   "metadata": {},
   "outputs": [],
   "source": [
    "#List of all letters and numbers\n",
    "  \n",
    "letters_and_numbers = ['a', 'b', 'c', 'd', 'e', 'f', 'g', 'h', 'i', 'j', 'k', 'l', 'm', 'n', 'o', 'p', 'q', 'r', 's', 't', 'u', 'v', 'w', 'x', 'y', 'z', '0', '1', '2', '3', '4', '5', '6', '7', '8', '9']"
   ]
  },
  {
   "cell_type": "code",
   "execution_count": 5,
   "metadata": {},
   "outputs": [],
   "source": [
    "#Agents\n",
    "\n",
    "user_agent = 'Mozilla/5.0'\n",
    "headers={'User-Agent':user_agent,} "
   ]
  },
  {
   "cell_type": "code",
   "execution_count": 6,
   "metadata": {},
   "outputs": [
    {
     "name": "stdout",
     "output_type": "stream",
     "text": [
      "Enter the amount of tries: 9\n"
     ]
    }
   ],
   "source": [
    "#Number of tries that user wants!\n",
    "\n",
    "while True:\n",
    "  try:\n",
    "    number_of_tries = int(input(\"Enter the amount of tries: \"))\n",
    "    if number_of_tries > 0:\n",
    "      break\n",
    "    print(\"Invalid number entered\")\n",
    "  except Exception as e:\n",
    "    print(e)"
   ]
  },
  {
   "cell_type": "code",
   "execution_count": 7,
   "metadata": {},
   "outputs": [
    {
     "name": "stdout",
     "output_type": "stream",
     "text": [
      "=========================================== Attempt No. 1 to get a random image! =========================================== \n",
      "\n",
      "Hoorayyy!!! The image on url: https://prnt.sc/6mh7km is available! You just saved it on path: C:\\Users\\menio\\light \n",
      "\n",
      "=========================================== Attempt No. 2 to get a random image! =========================================== \n",
      "\n",
      "Hoorayyy!!! The image on url: https://prnt.sc/3h7zx1 is available! You just saved it on path: C:\\Users\\menio\\light \n",
      "\n",
      "=========================================== Attempt No. 3 to get a random image! =========================================== \n",
      "\n",
      "Oops! The url: https://prnt.sc/ztz1pb is not available! Let's try another link! \n",
      "\n",
      "=========================================== Attempt No. 4 to get a random image! =========================================== \n",
      "\n",
      "Hoorayyy!!! The image on url: https://prnt.sc/jnws3l is available! You just saved it on path: C:\\Users\\menio\\light \n",
      "\n",
      "=========================================== Attempt No. 5 to get a random image! =========================================== \n",
      "\n",
      "Oops! The url: https://prnt.sc/xmthsw is not available! Let's try another link! \n",
      "\n",
      "=========================================== Attempt No. 6 to get a random image! =========================================== \n",
      "\n",
      "Oops! The url: https://prnt.sc/znmdk8 is not available! Let's try another link! \n",
      "\n",
      "=========================================== Attempt No. 7 to get a random image! =========================================== \n",
      "\n",
      "Hoorayyy!!! The image on url: https://prnt.sc/d9ni6e is available! You just saved it on path: C:\\Users\\menio\\light \n",
      "\n",
      "=========================================== Attempt No. 8 to get a random image! =========================================== \n",
      "\n",
      "Hoorayyy!!! The image on url: https://prnt.sc/8emwpy is available! You just saved it on path: C:\\Users\\menio\\light \n",
      "\n",
      "=========================================== Attempt No. 9 to get a random image! =========================================== \n",
      "\n",
      "Hoorayyy!!! The image on url: https://prnt.sc/d1uzz5 is available! You just saved it on path: C:\\Users\\menio\\light \n",
      "\n"
     ]
    }
   ],
   "source": [
    "#Let's try to get some random images!!!\n",
    "\n",
    "for i in range (number_of_tries):\n",
    "    try:\n",
    "        print(\"=\"*43,\"Attempt No.\", i+1, \"to get a random image!\",\"=\"*43,\"\\n\")\n",
    "        combination = str(random.choice(letters_and_numbers)) + str(random.choice(letters_and_numbers)) + str(random.choice(letters_and_numbers)) + str(random.choice(letters_and_numbers)) + str(random.choice(letters_and_numbers)) + str(random.choice(letters_and_numbers))\n",
    "        url = \"https://prnt.sc/\" + combination\n",
    "\n",
    "        request=urllib.request.Request(url,None,headers) #The assembled request\n",
    "        response = urllib.request.urlopen(request)\n",
    "        data = response.read() # The data we need\n",
    "\n",
    "        encoded_pic = urlopen(request).read()\n",
    "        soup = BeautifulSoup(data, 'html.parser')\n",
    "        \n",
    "        imgUrl = soup.find('img', id='screenshot-image')['src']\n",
    "        response = requests.get(imgUrl)\n",
    "        \n",
    "        img = Image.open(BytesIO(response.content))\n",
    "        img.show()\n",
    "        img.save(os.path.join(path, '') + combination + \".png\")\n",
    "        print(\"Hoorayyy!!! The image on url:\", url, \"is available! You just saved it on path:\", path,\"\\n\")\n",
    "        #We use time sleep so we don't get banned!\n",
    "        time.sleep(random.uniform(0.3,0.9))\n",
    "        \n",
    "    except MissingSchema:\n",
    "        \n",
    "        print(\"Oops! The url:\", url, \"is not available! Let's try another link!\",\"\\n\")\n",
    "        time.sleep(random.uniform(0.3,0.9))"
   ]
  },
  {
   "cell_type": "code",
   "execution_count": null,
   "metadata": {},
   "outputs": [],
   "source": []
  }
 ],
 "metadata": {
  "kernelspec": {
   "display_name": "Python 3",
   "language": "python",
   "name": "python3"
  },
  "language_info": {
   "codemirror_mode": {
    "name": "ipython",
    "version": 3
   },
   "file_extension": ".py",
   "mimetype": "text/x-python",
   "name": "python",
   "nbconvert_exporter": "python",
   "pygments_lexer": "ipython3",
   "version": "3.7.4"
  }
 },
 "nbformat": 4,
 "nbformat_minor": 2
}
